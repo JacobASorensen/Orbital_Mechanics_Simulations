{
 "cells": [
  {
   "cell_type": "code",
   "execution_count": 11,
   "metadata": {},
   "outputs": [
    {
     "name": "stdout",
     "output_type": "stream",
     "text": [
      "newton iteration: 0 value is currently: 1.25\n",
      "newton iteration: 1 value is currently: 1.025\n",
      "newton iteration: 2 value is currently: 1.0003048780487804\n",
      "newton iteration: 3 value is currently: 1.0000000464611474\n",
      "newton iteration: 4 value is currently: 1.000000000000001\n",
      "convergence reached, x = 1.000000000000001\n",
      "newton iteration: 0 value is currently: -5.049999999999999\n",
      "newton iteration: 1 value is currently: -2.6240099009900986\n",
      "newton iteration: 2 value is currently: -1.5025530119986812\n",
      "newton iteration: 3 value is currently: -1.0840434673026924\n",
      "newton iteration: 4 value is currently: -1.0032578510960606\n",
      "newton iteration: 5 value is currently: -1.0000052895642693\n",
      "newton iteration: 6 value is currently: -1.0000000000139897\n",
      "newton iteration: 7 value is currently: -1.0\n",
      "convergence reached, x = -1.0\n",
      "sol: 1.000000000000001 -1.0\n"
     ]
    }
   ],
   "source": [
    "import sys\n",
    "\n",
    "def function(x):\n",
    "    return x**2 - 1\n",
    "\n",
    "def dfunction(x):\n",
    "    return 2 * x\n",
    "\n",
    "def Newton_Solver( x0, tol = 10e-12, max_iter = 100):\n",
    "    x = x0\n",
    "    for i in range(max_iter):\n",
    "        fx = function(x)\n",
    "        dfx = dfunction(x)\n",
    "        if abs(fx) < tol:\n",
    "            print( 'convergence reached, x =',x)\n",
    "            return x\n",
    "        if dfx == 0:\n",
    "            print('singularity hit: exiting')\n",
    "            sys.exit(0)\n",
    "        x = x - fx/dfx\n",
    "        # if i % 10 == 0:\n",
    "        print('newton iteration:',i,'value is currently:',x)\n",
    "\n",
    "x_solution = Newton_Solver(0.5)\n",
    "x_solution_2 = Newton_Solver(-0.1)\n",
    "print(\"sol:\",x_solution,x_solution_2)"
   ]
  },
  {
   "attachments": {
    "image-2.png": {
     "image/png": "[encoded data removed]"
    },
    "image.png": {
     "image/png": "[encoded data removed]"
    }
   },
   "cell_type": "markdown",
   "metadata": {},
   "source": [
    "![image.png](attachment:image.png)\n",
    "![image-2.png](attachment:image-2.png)\n",
    "\n",
    "\n",
    "T = ((2*pi)/(sqrt(mu)))\\*a^(3/2)\n",
    "\n",
    "a = (T*sqrt(mu)/(2\\*pi))^(2/3)"
   ]
  },
  {
   "cell_type": "code",
   "execution_count": 27,
   "metadata": {},
   "outputs": [
    {
     "name": "stdout",
     "output_type": "stream",
     "text": [
      "0.660905725833850\n",
      "newton iteration: 0 value is currently: 5.14889523096213\n",
      "newton iteration: 1 value is currently: 3.40053638568162\n",
      "newton iteration: 2 value is currently: 3.96081318537048\n",
      "newton iteration: 3 value is currently: 3.99134488756194\n",
      "newton iteration: 4 value is currently: 3.99150305928556\n",
      "newton iteration: 5 value is currently: 3.99150306360941\n",
      "convergence reached, x = 3.99150306360941\n",
      "eccentric anomoly 1: 3.99150306360941\n",
      "theta1 =  -156.887792721536\n",
      "(a) radius at theta -2.73820853917719 : 42354.9210779852 km\n",
      "(b) radial velocity: -1.27090162503028 km/s\n",
      "(c) total velocity: 2.30338883594495 km/s\n"
     ]
    }
   ],
   "source": [
    "# problem 3.10 in Curtis p.g. 179 \n",
    "# An earth-orbiting satellite has a period of 15h and a perigee radius of 10,000 km. \n",
    "# At time t = 10h after perigee passage, determine:\n",
    "# (a) The radial position\n",
    "# (b) The speed\n",
    "# (c) The radial component of the velocity\n",
    "\n",
    "from sympy import *\n",
    "\n",
    "mu =       Symbol('mu')\n",
    "r_earth =   Symbol( 'r_earth')\n",
    "r_p =     Symbol('r_p')\n",
    "Period =     Symbol('Period')\n",
    "t_i = Symbol('t_i')\n",
    "\n",
    "values = [\n",
    "    (mu         ,3.986*10**5 ) ,\n",
    "    (r_earth    ,6378 ),\n",
    "    (r_p      ,10000) ,\n",
    "    (Period      ,14*3600) ,\n",
    "    (t_i, 10*3600)\n",
    "]\n",
    "\n",
    "\n",
    "a = ((Period*mu**(0.5))/(2*pi))**(2/3)\n",
    "\n",
    "r_a = 2*a - r_p\n",
    "\n",
    "e = (r_a - r_p)/(r_a + r_p)\n",
    "\n",
    "# we need angular momentum\n",
    "h = (a*mu*(1-e**2))**0.5\n",
    "\n",
    "v_p = r_p*h\n",
    "\n",
    "print(e.subs(values).evalf())\n",
    "\n",
    "# calculate mean anomaly using eq 3.15\n",
    "mean_anomaly = 2*pi*t_i/Period\n",
    "\n",
    "# Now we need to use newtons method to calculate the eccentric anomalies\n",
    "\n",
    "def function(E):\n",
    "    return E - e*sin(E) - mean_anomaly\n",
    "\n",
    "def dfunction(E):\n",
    "    return 1 - e*cos(E)\n",
    "\n",
    "def Newton_Solver( E0, tol = 10e-12, max_iter = 100):\n",
    "    x = E0\n",
    "    for i in range(max_iter):\n",
    "        fx = function(x)\n",
    "        fx = fx.subs(values).evalf()\n",
    "        dfx = dfunction(x)\n",
    "        dfx = dfx.subs(values).evalf()\n",
    "        if abs(fx) < tol:\n",
    "            print( 'convergence reached, x =',x)\n",
    "            return x\n",
    "        if dfx == 0:\n",
    "            print('singularity hit: exiting')\n",
    "            sys.exit(0)\n",
    "        x = x - fx/dfx\n",
    "        # if i % 10 == 0:\n",
    "        print('newton iteration:',i,'value is currently:',x)\n",
    "\n",
    "# Let us try it out!\n",
    "E_1 = Newton_Solver((pi/2).evalf())\n",
    "\n",
    "print(\"eccentric anomoly 1:\",E_1)\n",
    "\n",
    "# now we can finally calculate thetas\n",
    "\n",
    "theta = 2*atan((((1+e)/(1-e))**(1/2))*tan(E_1/2))\n",
    "\n",
    "print('theta1 = ', (theta*180/pi).subs(values).evalf())\n",
    "\n",
    "r_i = (h*h/mu)/(1 + e*cos(theta))\n",
    "\n",
    "v_rad = (mu/h)*e*sin(theta)\n",
    "v_perp = h/r_i\n",
    "\n",
    "v = (v_rad**2 + v_perp**2)**(0.5)\n",
    "\n",
    "print(\"(a) radius at theta\",theta.subs(values).evalf(),\":\",r_i.subs(values).evalf(),\"km\")\n",
    "print(\"(b) radial velocity:\",v_rad.subs(values).evalf(),\"km/s\")\n",
    "print(\"(c) total velocity:\",v.subs(values).evalf(),\"km/s\")\n",
    "\n",
    "\n"
   ]
  },
  {
   "cell_type": "code",
   "execution_count": null,
   "metadata": {},
   "outputs": [],
   "source": []
  }
 ],
 "metadata": {
  "kernelspec": {
   "display_name": "Python 3",
   "language": "python",
   "name": "python3"
  },
  "language_info": {
   "codemirror_mode": {
    "name": "ipython",
    "version": 3
   },
   "file_extension": ".py",
   "mimetype": "text/x-python",
   "name": "python",
   "nbconvert_exporter": "python",
   "pygments_lexer": "ipython3",
   "version": "3.10.12"
  }
 },
 "nbformat": 4,
 "nbformat_minor": 2
}
