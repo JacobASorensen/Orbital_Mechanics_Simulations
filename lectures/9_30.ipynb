{
 "cells": [
  {
   "cell_type": "code",
   "execution_count": 8,
   "metadata": {},
   "outputs": [
    {
     "name": "stdout",
     "output_type": "stream",
     "text": [
      "E_1: 1.57079632679489 E_2: 4.71238898038470\n",
      "Time spent above 400 km: 2828.89003302427\n",
      "Time spent above 400 km: 47.1481672170712 minutes\n"
     ]
    }
   ],
   "source": [
    "\n",
    "from sympy import *\n",
    "\n",
    "mu =       Symbol('mu')\n",
    "r_earth =   Symbol( 'r_earth')\n",
    "alt_p =     Symbol('alt_p')\n",
    "alt_a =     Symbol('alt_a')\n",
    "alt_i =     Symbol('alt_i')\n",
    "\n",
    "values = [\n",
    "    (mu         ,3.986*10**5 ) ,\n",
    "    (r_earth    ,6378 ),\n",
    "    (alt_p      ,200) ,\n",
    "    (alt_a      ,600) ,\n",
    "    (alt_i      ,400) ,\n",
    "]\n",
    "\n",
    "\n",
    "r_p = alt_p + r_earth\n",
    "r_a = alt_a + r_earth\n",
    "r_i = alt_i + r_earth\n",
    "\n",
    "# semi-major axis\n",
    "a = (r_p + r_a)/2\n",
    "\n",
    "# Calculate eccentricity\n",
    "e = (r_a - r_p)/(r_a + r_p)\n",
    "\n",
    "# we need angular momentum\n",
    "\n",
    "h = (a*mu*(1-e**2))**0.5\n",
    "\n",
    "# calculate theta 1 and 2\n",
    "theta_1 = acos(((h**2)/(r_i*mu) - 1)/e)\n",
    "theta_2 = 2*pi - theta_1\n",
    "\n",
    "# calculate eccentricity anomaly\n",
    "E_1 = acos((e + cos(theta_1))/(1 + e*cos(theta_1)))\n",
    "E_2 = 2*pi - acos((e + cos(theta_2))/(1 + e*cos(theta_2)))\n",
    "\n",
    "# Now we can solve for the time the spacecraft spends above 400km\n",
    "\n",
    "delta_t = (E_2 - E_1 + e*(sin(E_1) - sin(E_2)))*((a**3)/mu)**0.5\n",
    "\n",
    "print(\"E_1:\",E_1.subs(values),\"E_2:\",E_2.subs(values).evalf())\n",
    "print(\"Time spent above\",alt_i.subs(values),\"km:\",delta_t.subs(values).evalf())\n",
    "print(\"Time spent above\",alt_i.subs(values),\"km:\",delta_t.subs(values).evalf()/60,\"minutes\")"
   ]
  },
  {
   "cell_type": "code",
   "execution_count": null,
   "metadata": {},
   "outputs": [],
   "source": []
  }
 ],
 "metadata": {
  "kernelspec": {
   "display_name": "Python 3",
   "language": "python",
   "name": "python3"
  },
  "language_info": {
   "codemirror_mode": {
    "name": "ipython",
    "version": 3
   },
   "file_extension": ".py",
   "mimetype": "text/x-python",
   "name": "python",
   "nbconvert_exporter": "python",
   "pygments_lexer": "ipython3",
   "version": "3.10.12"
  }
 },
 "nbformat": 4,
 "nbformat_minor": 2
}
