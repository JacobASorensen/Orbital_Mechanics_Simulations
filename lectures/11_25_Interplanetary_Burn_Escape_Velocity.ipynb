{
 "cells": [
  {
   "cell_type": "markdown",
   "metadata": {},
   "source": [
    "Problem 8.7 Curtis"
   ]
  },
  {
   "cell_type": "code",
   "execution_count": 4,
   "metadata": {},
   "outputs": [
    {
     "name": "stdout",
     "output_type": "stream",
     "text": [
      "escape Velocity: -1.57879168379885\n",
      "Δv required for maneuver: 3.33701190840026\n"
     ]
    }
   ],
   "source": [
    "# When earth was 147.4*10e6 km from sun\n",
    "# Spacecraft in 200km orbit launched into elliptical solar orbit\n",
    "# Pe: 120*10e6 km, Ap: Earths radius\n",
    "# Calculate delta V required, and Vinf of departure hyperbola\n",
    "\n",
    "import sympy\n",
    "from sympy import *\n",
    "import sys\n",
    "\n",
    "R_Earth = Symbol('R_Earth')\n",
    "h_park_Earth = Symbol('h_park_Earth')\n",
    "r_park_Earth = Symbol('r_park_Earth')\n",
    "r_Earth = Symbol('r_Earth')\n",
    "R_p = Symbol('R_p')\n",
    "mu_Earth = Symbol('mu_Earth')\n",
    "mu_Sun = Symbol('mu_Sun')\n",
    "\n",
    "# values\n",
    "\n",
    "values = [\n",
    "    (r_park_Earth, h_park_Earth + r_Earth),\n",
    "    (h_park_Earth, 200),\n",
    "    (R_Earth, 147.4 * 10**6),\n",
    "    (R_p, 120 * 10**6),\n",
    "    (mu_Sun, 1.327 * 10**11),\n",
    "    (mu_Earth, 3.986 * 10**5),\n",
    "    (r_Earth,6378),\n",
    "]\n",
    "\n",
    "# Hohmann Transfer\n",
    "\n",
    "R_a = R_Earth\n",
    "\n",
    "a_H = (R_p + R_a) / 2\n",
    "\n",
    "# From Conservation of Energy Eqn.\n",
    "v_H_Earth = sqrt( 2 * mu_Sun / R_a - mu_Sun / a_H)\n",
    "\n",
    "V_Earth = sqrt( mu_Sun / R_Earth)\n",
    "\n",
    "# Escape Velocity leaving earth\n",
    "\n",
    "V_Esc = v_H_Earth - V_Earth\n",
    "\n",
    "print(\"escape Velocity:\",V_Esc.subs(values).evalf())\n",
    "\n",
    "# Now we need to calculate the delta v for the spacecraft from its current orbit\n",
    "\n",
    "a_i = -mu_Earth / V_Esc**2\n",
    "\n",
    "v_p_i = sqrt(2 * mu_Earth / r_park_Earth - mu_Earth / a_i)\n",
    "\n",
    "v_park = sqrt(mu_Earth / r_park_Earth)\n",
    "\n",
    "Δv = v_p_i - v_park\n",
    "\n",
    "print(\"Δv required for maneuver:\",Δv.subs(values).evalf())\n"
   ]
  }
 ],
 "metadata": {
  "kernelspec": {
   "display_name": "Python 3",
   "language": "python",
   "name": "python3"
  },
  "language_info": {
   "codemirror_mode": {
    "name": "ipython",
    "version": 3
   },
   "file_extension": ".py",
   "mimetype": "text/x-python",
   "name": "python",
   "nbconvert_exporter": "python",
   "pygments_lexer": "ipython3",
   "version": "3.10.12"
  }
 },
 "nbformat": 4,
 "nbformat_minor": 2
}
