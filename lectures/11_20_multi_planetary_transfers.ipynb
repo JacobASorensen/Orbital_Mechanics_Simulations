{
 "cells": [
  {
   "cell_type": "code",
   "execution_count": null,
   "id": "16d39eaa-80fc-4dd3-8c19-dec03519094d",
   "metadata": {},
   "outputs": [
    {
     "name": "stdout",
     "output_type": "stream",
     "text": [
      "travel time to mars: 258.839831978213\n",
      "angle to travel to mars: 44.3291775375799\n",
      "synotic time period: 780.249757021177\n"
     ]
    }
   ],
   "source": [
    "#\n",
    "# Curtis Problem 6.10\n",
    "#\n",
    "\n",
    "import sympy\n",
    "from sympy import *\n",
    "import sys\n",
    "\n",
    "#\n",
    "# symbols\n",
    "#\n",
    "\n",
    "r_E   = Symbol( 'r_E' ) # Earth circular orbit radius, km\n",
    "r_M   = Symbol( 'r_M' ) # Mars circular orbit radius, km\n",
    "mu_Sun = Symbol( 'mu_Sun'   ) # Sun geocentric gravitational constant\n",
    "\n",
    "#\n",
    "# values\n",
    "#\n",
    "\n",
    "values = [\n",
    "            ( r_E   , 1.496 * 10**8 ) ,\n",
    "            ( r_M   , 2.279 * 10**8 ) ,\n",
    "            ( mu_Sun , 1.327 * 10**11 ) ,\n",
    "]\n",
    "\n",
    "# semimajor axis of hohmann transfer\n",
    "\n",
    "a_t = (r_M + r_E)/2\n",
    "\n",
    "# Period\n",
    "\n",
    "def Orbit_Period(mu,a):\n",
    "    return 2*pi / sqrt(mu) * (a)**(1.5)\n",
    "\n",
    "T_t = Orbit_Period(mu_Sun,a_t)\n",
    "\n",
    "# Trip to mars\n",
    "\n",
    "T_trip = 0.5 * T_t\n",
    "\n",
    "print(\"travel time to mars:\",(T_trip/(3600*24)).subs(values).evalf())\n",
    "\n",
    "# Angular velocity of Earth and Mars\n",
    "\n",
    "T_E =Orbit_Period(mu_Sun,r_E)\n",
    "T_M =Orbit_Period(mu_Sun,r_M)\n",
    "\n",
    "ω_E = 2 * pi / T_E\n",
    "ω_M = 2 * pi / T_M\n",
    "\n",
    "φ_theta = pi - ω_M * T_trip\n",
    "\n",
    "\n",
    "print(\"angle to travel to mars:\",(φ_theta * 180 / pi).subs(values).evalf())\n",
    "\n",
    "# Synodic time period\n",
    "\n",
    "T_syn = T_E * T_M / (T_M - T_E)\n",
    "\n",
    "print(\"synotic time period:\",(T_syn/(3600*24*365)).subs(values).evalf())\n"
   ]
  },
  {
   "cell_type": "code",
   "execution_count": null,
   "id": "ccb86020-1ac1-48b8-9883-12d3f29f63e6",
   "metadata": {},
   "outputs": [],
   "source": []
  },
  {
   "cell_type": "code",
   "execution_count": null,
   "id": "050d0d8b-1064-4b33-8338-670884363898",
   "metadata": {},
   "outputs": [],
   "source": []
  }
 ],
 "metadata": {
  "kernelspec": {
   "display_name": "Python 3",
   "language": "python",
   "name": "python3"
  },
  "language_info": {
   "codemirror_mode": {
    "name": "ipython",
    "version": 3
   },
   "file_extension": ".py",
   "mimetype": "text/x-python",
   "name": "python",
   "nbconvert_exporter": "python",
   "pygments_lexer": "ipython3",
   "version": "3.10.12"
  }
 },
 "nbformat": 4,
 "nbformat_minor": 5
}
