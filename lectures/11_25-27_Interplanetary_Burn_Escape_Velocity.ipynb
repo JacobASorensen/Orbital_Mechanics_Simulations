{
 "cells": [
  {
   "cell_type": "markdown",
   "metadata": {},
   "source": [
    "Problem 8.7 Curtis"
   ]
  },
  {
   "cell_type": "code",
   "execution_count": null,
   "metadata": {},
   "outputs": [
    {
     "ename": "NameError",
     "evalue": "name 'h_park_Earth' is not defined",
     "output_type": "error",
     "traceback": [
      "\u001b[0;31m---------------------------------------------------------------------------\u001b[0m",
      "\u001b[0;31mNameError\u001b[0m                                 Traceback (most recent call last)",
      "Cell \u001b[0;32mIn[1], line 29\u001b[0m\n\u001b[1;32m     26\u001b[0m values \u001b[38;5;241m=\u001b[39m [(symbols_dict[key], val) \u001b[38;5;28;01mfor\u001b[39;00m key, val \u001b[38;5;129;01min\u001b[39;00m symbols_values\u001b[38;5;241m.\u001b[39mitems()]\n\u001b[1;32m     28\u001b[0m \u001b[38;5;66;03m# Add derived values\u001b[39;00m\n\u001b[0;32m---> 29\u001b[0m r_park_Earth \u001b[38;5;241m=\u001b[39m \u001b[43mh_park_Earth\u001b[49m \u001b[38;5;241m+\u001b[39m r_Earth\n\u001b[1;32m     31\u001b[0m \u001b[38;5;66;03m# Hohmann Transfer\u001b[39;00m\n\u001b[1;32m     33\u001b[0m R_a \u001b[38;5;241m=\u001b[39m R_Earth\n",
      "\u001b[0;31mNameError\u001b[0m: name 'h_park_Earth' is not defined"
     ]
    }
   ],
   "source": [
    "# When earth was 147.4*10e6 km from sun\n",
    "# Spacecraft in 200km orbit launched into elliptical solar orbit\n",
    "# Pe: 120*10e6 km, Ap: Earths radius\n",
    "# Calculate delta V required, and Vinf of departure hyperbola\n",
    "\n",
    "import sympy\n",
    "from sympy import *\n",
    "import sys\n",
    "\n",
    "R_Earth = Symbol('R_Earth')\n",
    "h_park_Earth = Symbol('h_park_Earth')\n",
    "r_park_Earth = Symbol('r_park_Earth')\n",
    "r_Earth = Symbol('r_Earth')\n",
    "R_p = Symbol('R_p')\n",
    "mu_Earth = Symbol('mu_Earth')\n",
    "mu_Sun = Symbol('mu_Sun')\n",
    "\n",
    "# values\n",
    "\n",
    "values = [\n",
    "    (r_park_Earth, h_park_Earth + r_Earth),\n",
    "    (h_park_Earth, 200),\n",
    "    (R_Earth, 147.4 * 10**6),\n",
    "    (R_p, 120 * 10**6),\n",
    "    (mu_Sun, 1.327 * 10**11),\n",
    "    (mu_Earth, 3.986 * 10**5),\n",
    "    (r_Earth,6378),\n",
    "]\n",
    "\n",
    "# Hohmann Transfer\n",
    "\n",
    "R_a = R_Earth\n",
    "\n",
    "a_H = (R_p + R_a) / 2\n",
    "\n",
    "# From Conservation of Energy Eqn.\n",
    "v_H_Earth = sqrt( 2 * mu_Sun / R_a - mu_Sun / a_H)\n",
    "\n",
    "V_Earth = sqrt( mu_Sun / R_Earth)\n",
    "\n",
    "# Escape Velocity leaving earth\n",
    "\n",
    "V_Esc = v_H_Earth - V_Earth\n",
    "\n",
    "print(\"escape Velocity:\",V_Esc.subs(values).evalf())\n",
    "\n",
    "# Now we need to calculate the delta v for the spacecraft from its current orbit\n",
    "\n",
    "a_i = -mu_Earth / V_Esc**2\n",
    "\n",
    "v_p_i = sqrt(2 * mu_Earth / r_park_Earth - mu_Earth / a_i)\n",
    "\n",
    "v_park = sqrt(mu_Earth / r_park_Earth)\n",
    "\n",
    "Δv = v_p_i - v_park\n",
    "\n",
    "print(\"Δv required for maneuver:\",Δv.subs(values).evalf())\n"
   ]
  }
 ],
 "metadata": {
  "kernelspec": {
   "display_name": "Python 3",
   "language": "python",
   "name": "python3"
  },
  "language_info": {
   "codemirror_mode": {
    "name": "ipython",
    "version": 3
   },
   "file_extension": ".py",
   "mimetype": "text/x-python",
   "name": "python",
   "nbconvert_exporter": "python",
   "pygments_lexer": "ipython3",
   "version": "3.10.12"
  }
 },
 "nbformat": 4,
 "nbformat_minor": 2
}
